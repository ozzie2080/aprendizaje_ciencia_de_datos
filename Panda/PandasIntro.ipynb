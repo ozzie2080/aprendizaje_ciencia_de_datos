{
  "nbformat": 4,
  "nbformat_minor": 0,
  "metadata": {
    "colab": {
      "name": "PandasIntro.ipynb",
      "version": "0.3.2",
      "provenance": []
    },
    "kernelspec": {
      "display_name": "Python 3",
      "language": "python",
      "name": "python3"
    }
  },
  "cells": [
    {
      "metadata": {
        "id": "RepMjNEz-yCw",
        "colab_type": "text"
      },
      "cell_type": "markdown",
      "source": [
        "# Introduccion a Pandas\n",
        "### Basado en Google --> ML Crash Course intro_to_pandas\n",
        "https://colab.research.google.com/notebooks/mlcc/intro_to_pandas.ipynb?utm_source=mlcc&utm_campaign=colab-external&utm_medium=referral&utm_content=pandas-colab&hl=en\n"
      ]
    },
    {
      "metadata": {
        "id": "2JNIS6jU-yCz",
        "colab_type": "text"
      },
      "cell_type": "markdown",
      "source": [
        "## 1. Introduccion a la libreria de Pandas"
      ]
    },
    {
      "metadata": {
        "id": "s_5W_vG9-yC2",
        "colab_type": "text"
      },
      "cell_type": "markdown",
      "source": [
        "### 1.1. Objetivos de aprendizaje\n",
        "* Introduccion a la structura de datos DataFrame y Series en la libreria Pandas\n",
        "* Acceder y manipular datos dentro de un DataFrame y Serie\n",
        "* Importar datos de formato CSV en DataFrame\n",
        "* Reindexar un DataFrame para mezclar datos\n"
      ]
    },
    {
      "metadata": {
        "id": "GMyHTVA7-yC8",
        "colab_type": "text"
      },
      "cell_type": "markdown",
      "source": [
        "[*pandas*](http://pandas.pydata.org/) es un API (Application Program Interface) para el analysis de datos organizados en forma de tablas (filas / columnas).  Pandas es una herramienta para el manejo y analisis de datos, tambien muchos marcos de trabajo ML dan soporte utilizando a las estructuras de Pandas en el ingreso de datos.  \n",
        "La pagina web del proyecto Pandas contiene documentacion extensiva y varios tutorials."
      ]
    },
    {
      "metadata": {
        "id": "PYXAns_T-yC_",
        "colab_type": "text"
      },
      "cell_type": "markdown",
      "source": [
        "### 1.2. Conceptos Basicos\n",
        "\n",
        "Las siguientes lineas de codigo importan la libreria de Pandas, e imprimen la version"
      ]
    },
    {
      "metadata": {
        "id": "kUspdIf8-yDB",
        "colab_type": "code",
        "outputId": "35c2017d-615c-4015-baa4-988eaeede7dc",
        "colab": {
          "base_uri": "https://localhost:8080/",
          "height": 34
        }
      },
      "cell_type": "code",
      "source": [
        "from __future__ import print_function\n",
        "\n",
        "# import pandas \n",
        "import pandas as pd\n",
        "pd.__version__"
      ],
      "execution_count": 19,
      "outputs": [
        {
          "output_type": "execute_result",
          "data": {
            "text/plain": [
              "'0.22.0'"
            ]
          },
          "metadata": {
            "tags": []
          },
          "execution_count": 19
        }
      ]
    },
    {
      "metadata": {
        "id": "JzZqoMWc-yDk",
        "colab_type": "text"
      },
      "cell_type": "markdown",
      "source": [
        "Note que tambien pudo utilizar el comando ```print```:"
      ]
    },
    {
      "metadata": {
        "id": "k_r-V5RI-yDl",
        "colab_type": "code",
        "outputId": "ba29860a-b4bc-4a2b-a1ce-ec54ec3e475f",
        "colab": {
          "base_uri": "https://localhost:8080/",
          "height": 34
        }
      },
      "cell_type": "code",
      "source": [
        "print (\"Pandas version: \", pd.__version__)"
      ],
      "execution_count": 20,
      "outputs": [
        {
          "output_type": "stream",
          "text": [
            "Pandas version:  0.22.0\n"
          ],
          "name": "stdout"
        }
      ]
    },
    {
      "metadata": {
        "id": "9fG4MFb9-yDt",
        "colab_type": "text"
      },
      "cell_type": "markdown",
      "source": [
        "Las estructuras de datos primaria de pandas son implementadas como dos clases:\n",
        "* **DataFrame**, que corresponde a una tabla relacional, con filas y columnas con Nombre (encabezado)\n",
        "* **Series**, que corresponde a una sola columna.  Un DataFrame contiene una o mas Series y un nombre para cada Serie\n",
        "DataFrames es una estructura comun que se utiliza en Spark, R, y otros marcos de manejo de datos."
      ]
    },
    {
      "metadata": {
        "id": "XFgDlBEO-yDu",
        "colab_type": "text"
      },
      "cell_type": "markdown",
      "source": [
        "#### 1.2.1 Construyendo una Serie\n",
        "Una forma de crear una Serie es construyendo un objeto tipo Series.  Por ejemplo:\n"
      ]
    },
    {
      "metadata": {
        "id": "mRC3xKBO-yDv",
        "colab_type": "code",
        "outputId": "ae7e386c-cb06-4273-e4e6-7eb952fe16a8",
        "colab": {
          "base_uri": "https://localhost:8080/",
          "height": 85
        }
      },
      "cell_type": "code",
      "source": [
        "pd.Series(['San Francisco', 'Sevilla', 'Portugal'])"
      ],
      "execution_count": 21,
      "outputs": [
        {
          "output_type": "execute_result",
          "data": {
            "text/plain": [
              "0    San Francisco\n",
              "1          Sevilla\n",
              "2         Portugal\n",
              "dtype: object"
            ]
          },
          "metadata": {
            "tags": []
          },
          "execution_count": 21
        }
      ]
    },
    {
      "metadata": {
        "id": "mHfVKXKC-yD0",
        "colab_type": "text"
      },
      "cell_type": "markdown",
      "source": [
        "Los objetos de tipo DataFrame pueden ser creados pasando un diccionario (dict) que asigna una columna texto a una serie respectiva.  Si las Series no tienen la misma longitud, los valores no existentes seran llenados con el valor especial NA/NaN. Por ejemplo:"
      ]
    },
    {
      "metadata": {
        "id": "13AXV1LQ-yD1",
        "colab_type": "code",
        "outputId": "f8b8929e-3fdb-4ec1-b002-091ddb19a426",
        "colab": {
          "base_uri": "https://localhost:8080/",
          "height": 142
        }
      },
      "cell_type": "code",
      "source": [
        "ciudades = pd.Series(['San Francisco','Sevilla','Portugal'])\n",
        "poblacion = pd.Series([1250000, 105000, 350000])\n",
        "\n",
        "pd.DataFrame({ 'Ciudad': ciudades, 'Poblacion': poblacion })"
      ],
      "execution_count": 22,
      "outputs": [
        {
          "output_type": "execute_result",
          "data": {
            "text/html": [
              "<div>\n",
              "<style scoped>\n",
              "    .dataframe tbody tr th:only-of-type {\n",
              "        vertical-align: middle;\n",
              "    }\n",
              "\n",
              "    .dataframe tbody tr th {\n",
              "        vertical-align: top;\n",
              "    }\n",
              "\n",
              "    .dataframe thead th {\n",
              "        text-align: right;\n",
              "    }\n",
              "</style>\n",
              "<table border=\"1\" class=\"dataframe\">\n",
              "  <thead>\n",
              "    <tr style=\"text-align: right;\">\n",
              "      <th></th>\n",
              "      <th>Ciudad</th>\n",
              "      <th>Poblacion</th>\n",
              "    </tr>\n",
              "  </thead>\n",
              "  <tbody>\n",
              "    <tr>\n",
              "      <th>0</th>\n",
              "      <td>San Francisco</td>\n",
              "      <td>1250000</td>\n",
              "    </tr>\n",
              "    <tr>\n",
              "      <th>1</th>\n",
              "      <td>Sevilla</td>\n",
              "      <td>105000</td>\n",
              "    </tr>\n",
              "    <tr>\n",
              "      <th>2</th>\n",
              "      <td>Portugal</td>\n",
              "      <td>350000</td>\n",
              "    </tr>\n",
              "  </tbody>\n",
              "</table>\n",
              "</div>"
            ],
            "text/plain": [
              "          Ciudad  Poblacion\n",
              "0  San Francisco    1250000\n",
              "1        Sevilla     105000\n",
              "2       Portugal     350000"
            ]
          },
          "metadata": {
            "tags": []
          },
          "execution_count": 22
        }
      ]
    },
    {
      "metadata": {
        "id": "cJWHFqmq-yD7",
        "colab_type": "text"
      },
      "cell_type": "markdown",
      "source": [
        "#### 1.2.2 Cargando un archivo CSV \n",
        "Por supuesto, la mayor parte del tiempo el DataFrame is cargado directamente desde un archivo CSV.   El siguiente ejemplo carga un archive con los datos de costo de viviendas en California. \n",
        "\n",
        "Ejecute la siguiente celda para cargar los datos del archivo y crear definiciones de los valores."
      ]
    },
    {
      "metadata": {
        "id": "tjF41j7Q-yD9",
        "colab_type": "code",
        "outputId": "551301b1-d2b0-4889-aa5c-45ad264a47dd",
        "colab": {
          "base_uri": "https://localhost:8080/",
          "height": 297
        }
      },
      "cell_type": "code",
      "source": [
        "# Copie el archivo de datos a su directorio local - inidicando que los datos en el archivo estan delimitado con comas\n",
        "viviendas_california_dataframe = pd.read_csv(\"https://download.mlcc.google.com/mledu-datasets/california_housing_train.csv\", sep=\",\")\n",
        "# Imprime una tabla describiendo la informacion y un resumen estadistico de los datos\n",
        "viviendas_california_dataframe.describe()"
      ],
      "execution_count": 23,
      "outputs": [
        {
          "output_type": "execute_result",
          "data": {
            "text/html": [
              "<div>\n",
              "<style scoped>\n",
              "    .dataframe tbody tr th:only-of-type {\n",
              "        vertical-align: middle;\n",
              "    }\n",
              "\n",
              "    .dataframe tbody tr th {\n",
              "        vertical-align: top;\n",
              "    }\n",
              "\n",
              "    .dataframe thead th {\n",
              "        text-align: right;\n",
              "    }\n",
              "</style>\n",
              "<table border=\"1\" class=\"dataframe\">\n",
              "  <thead>\n",
              "    <tr style=\"text-align: right;\">\n",
              "      <th></th>\n",
              "      <th>longitude</th>\n",
              "      <th>latitude</th>\n",
              "      <th>housing_median_age</th>\n",
              "      <th>total_rooms</th>\n",
              "      <th>total_bedrooms</th>\n",
              "      <th>population</th>\n",
              "      <th>households</th>\n",
              "      <th>median_income</th>\n",
              "      <th>median_house_value</th>\n",
              "    </tr>\n",
              "  </thead>\n",
              "  <tbody>\n",
              "    <tr>\n",
              "      <th>count</th>\n",
              "      <td>17000.000000</td>\n",
              "      <td>17000.000000</td>\n",
              "      <td>17000.000000</td>\n",
              "      <td>17000.000000</td>\n",
              "      <td>17000.000000</td>\n",
              "      <td>17000.000000</td>\n",
              "      <td>17000.000000</td>\n",
              "      <td>17000.000000</td>\n",
              "      <td>17000.000000</td>\n",
              "    </tr>\n",
              "    <tr>\n",
              "      <th>mean</th>\n",
              "      <td>-119.562108</td>\n",
              "      <td>35.625225</td>\n",
              "      <td>28.589353</td>\n",
              "      <td>2643.664412</td>\n",
              "      <td>539.410824</td>\n",
              "      <td>1429.573941</td>\n",
              "      <td>501.221941</td>\n",
              "      <td>3.883578</td>\n",
              "      <td>207300.912353</td>\n",
              "    </tr>\n",
              "    <tr>\n",
              "      <th>std</th>\n",
              "      <td>2.005166</td>\n",
              "      <td>2.137340</td>\n",
              "      <td>12.586937</td>\n",
              "      <td>2179.947071</td>\n",
              "      <td>421.499452</td>\n",
              "      <td>1147.852959</td>\n",
              "      <td>384.520841</td>\n",
              "      <td>1.908157</td>\n",
              "      <td>115983.764387</td>\n",
              "    </tr>\n",
              "    <tr>\n",
              "      <th>min</th>\n",
              "      <td>-124.350000</td>\n",
              "      <td>32.540000</td>\n",
              "      <td>1.000000</td>\n",
              "      <td>2.000000</td>\n",
              "      <td>1.000000</td>\n",
              "      <td>3.000000</td>\n",
              "      <td>1.000000</td>\n",
              "      <td>0.499900</td>\n",
              "      <td>14999.000000</td>\n",
              "    </tr>\n",
              "    <tr>\n",
              "      <th>25%</th>\n",
              "      <td>-121.790000</td>\n",
              "      <td>33.930000</td>\n",
              "      <td>18.000000</td>\n",
              "      <td>1462.000000</td>\n",
              "      <td>297.000000</td>\n",
              "      <td>790.000000</td>\n",
              "      <td>282.000000</td>\n",
              "      <td>2.566375</td>\n",
              "      <td>119400.000000</td>\n",
              "    </tr>\n",
              "    <tr>\n",
              "      <th>50%</th>\n",
              "      <td>-118.490000</td>\n",
              "      <td>34.250000</td>\n",
              "      <td>29.000000</td>\n",
              "      <td>2127.000000</td>\n",
              "      <td>434.000000</td>\n",
              "      <td>1167.000000</td>\n",
              "      <td>409.000000</td>\n",
              "      <td>3.544600</td>\n",
              "      <td>180400.000000</td>\n",
              "    </tr>\n",
              "    <tr>\n",
              "      <th>75%</th>\n",
              "      <td>-118.000000</td>\n",
              "      <td>37.720000</td>\n",
              "      <td>37.000000</td>\n",
              "      <td>3151.250000</td>\n",
              "      <td>648.250000</td>\n",
              "      <td>1721.000000</td>\n",
              "      <td>605.250000</td>\n",
              "      <td>4.767000</td>\n",
              "      <td>265000.000000</td>\n",
              "    </tr>\n",
              "    <tr>\n",
              "      <th>max</th>\n",
              "      <td>-114.310000</td>\n",
              "      <td>41.950000</td>\n",
              "      <td>52.000000</td>\n",
              "      <td>37937.000000</td>\n",
              "      <td>6445.000000</td>\n",
              "      <td>35682.000000</td>\n",
              "      <td>6082.000000</td>\n",
              "      <td>15.000100</td>\n",
              "      <td>500001.000000</td>\n",
              "    </tr>\n",
              "  </tbody>\n",
              "</table>\n",
              "</div>"
            ],
            "text/plain": [
              "          longitude      latitude  housing_median_age   total_rooms  \\\n",
              "count  17000.000000  17000.000000        17000.000000  17000.000000   \n",
              "mean    -119.562108     35.625225           28.589353   2643.664412   \n",
              "std        2.005166      2.137340           12.586937   2179.947071   \n",
              "min     -124.350000     32.540000            1.000000      2.000000   \n",
              "25%     -121.790000     33.930000           18.000000   1462.000000   \n",
              "50%     -118.490000     34.250000           29.000000   2127.000000   \n",
              "75%     -118.000000     37.720000           37.000000   3151.250000   \n",
              "max     -114.310000     41.950000           52.000000  37937.000000   \n",
              "\n",
              "       total_bedrooms    population    households  median_income  \\\n",
              "count    17000.000000  17000.000000  17000.000000   17000.000000   \n",
              "mean       539.410824   1429.573941    501.221941       3.883578   \n",
              "std        421.499452   1147.852959    384.520841       1.908157   \n",
              "min          1.000000      3.000000      1.000000       0.499900   \n",
              "25%        297.000000    790.000000    282.000000       2.566375   \n",
              "50%        434.000000   1167.000000    409.000000       3.544600   \n",
              "75%        648.250000   1721.000000    605.250000       4.767000   \n",
              "max       6445.000000  35682.000000   6082.000000      15.000100   \n",
              "\n",
              "       median_house_value  \n",
              "count        17000.000000  \n",
              "mean        207300.912353  \n",
              "std         115983.764387  \n",
              "min          14999.000000  \n",
              "25%         119400.000000  \n",
              "50%         180400.000000  \n",
              "75%         265000.000000  \n",
              "max         500001.000000  "
            ]
          },
          "metadata": {
            "tags": []
          },
          "execution_count": 23
        }
      ]
    },
    {
      "metadata": {
        "id": "xrnHauaU-yEF",
        "colab_type": "text"
      },
      "cell_type": "markdown",
      "source": [
        "#### 1.2.3 Explorando el DataFrame\n",
        "Los siguientes comandos le permiten explorar directamente la tabla que acaba de cargar, usando las funciones `head` para acceder las primeras filas de la tabla, y `hist` para crear un histograma de distribucion de algun valor"
      ]
    },
    {
      "metadata": {
        "id": "rlP0LtXQ-yEG",
        "colab_type": "code",
        "outputId": "68d66f18-3e92-493d-f72d-96dc137a1254",
        "colab": {
          "base_uri": "https://localhost:8080/",
          "height": 204
        }
      },
      "cell_type": "code",
      "source": [
        "# primeras 5 lineas o head\n",
        "viviendas_california_dataframe.head(5)"
      ],
      "execution_count": 24,
      "outputs": [
        {
          "output_type": "execute_result",
          "data": {
            "text/html": [
              "<div>\n",
              "<style scoped>\n",
              "    .dataframe tbody tr th:only-of-type {\n",
              "        vertical-align: middle;\n",
              "    }\n",
              "\n",
              "    .dataframe tbody tr th {\n",
              "        vertical-align: top;\n",
              "    }\n",
              "\n",
              "    .dataframe thead th {\n",
              "        text-align: right;\n",
              "    }\n",
              "</style>\n",
              "<table border=\"1\" class=\"dataframe\">\n",
              "  <thead>\n",
              "    <tr style=\"text-align: right;\">\n",
              "      <th></th>\n",
              "      <th>longitude</th>\n",
              "      <th>latitude</th>\n",
              "      <th>housing_median_age</th>\n",
              "      <th>total_rooms</th>\n",
              "      <th>total_bedrooms</th>\n",
              "      <th>population</th>\n",
              "      <th>households</th>\n",
              "      <th>median_income</th>\n",
              "      <th>median_house_value</th>\n",
              "    </tr>\n",
              "  </thead>\n",
              "  <tbody>\n",
              "    <tr>\n",
              "      <th>0</th>\n",
              "      <td>-114.31</td>\n",
              "      <td>34.19</td>\n",
              "      <td>15.0</td>\n",
              "      <td>5612.0</td>\n",
              "      <td>1283.0</td>\n",
              "      <td>1015.0</td>\n",
              "      <td>472.0</td>\n",
              "      <td>1.4936</td>\n",
              "      <td>66900.0</td>\n",
              "    </tr>\n",
              "    <tr>\n",
              "      <th>1</th>\n",
              "      <td>-114.47</td>\n",
              "      <td>34.40</td>\n",
              "      <td>19.0</td>\n",
              "      <td>7650.0</td>\n",
              "      <td>1901.0</td>\n",
              "      <td>1129.0</td>\n",
              "      <td>463.0</td>\n",
              "      <td>1.8200</td>\n",
              "      <td>80100.0</td>\n",
              "    </tr>\n",
              "    <tr>\n",
              "      <th>2</th>\n",
              "      <td>-114.56</td>\n",
              "      <td>33.69</td>\n",
              "      <td>17.0</td>\n",
              "      <td>720.0</td>\n",
              "      <td>174.0</td>\n",
              "      <td>333.0</td>\n",
              "      <td>117.0</td>\n",
              "      <td>1.6509</td>\n",
              "      <td>85700.0</td>\n",
              "    </tr>\n",
              "    <tr>\n",
              "      <th>3</th>\n",
              "      <td>-114.57</td>\n",
              "      <td>33.64</td>\n",
              "      <td>14.0</td>\n",
              "      <td>1501.0</td>\n",
              "      <td>337.0</td>\n",
              "      <td>515.0</td>\n",
              "      <td>226.0</td>\n",
              "      <td>3.1917</td>\n",
              "      <td>73400.0</td>\n",
              "    </tr>\n",
              "    <tr>\n",
              "      <th>4</th>\n",
              "      <td>-114.57</td>\n",
              "      <td>33.57</td>\n",
              "      <td>20.0</td>\n",
              "      <td>1454.0</td>\n",
              "      <td>326.0</td>\n",
              "      <td>624.0</td>\n",
              "      <td>262.0</td>\n",
              "      <td>1.9250</td>\n",
              "      <td>65500.0</td>\n",
              "    </tr>\n",
              "  </tbody>\n",
              "</table>\n",
              "</div>"
            ],
            "text/plain": [
              "   longitude  latitude  housing_median_age  total_rooms  total_bedrooms  \\\n",
              "0    -114.31     34.19                15.0       5612.0          1283.0   \n",
              "1    -114.47     34.40                19.0       7650.0          1901.0   \n",
              "2    -114.56     33.69                17.0        720.0           174.0   \n",
              "3    -114.57     33.64                14.0       1501.0           337.0   \n",
              "4    -114.57     33.57                20.0       1454.0           326.0   \n",
              "\n",
              "   population  households  median_income  median_house_value  \n",
              "0      1015.0       472.0         1.4936             66900.0  \n",
              "1      1129.0       463.0         1.8200             80100.0  \n",
              "2       333.0       117.0         1.6509             85700.0  \n",
              "3       515.0       226.0         3.1917             73400.0  \n",
              "4       624.0       262.0         1.9250             65500.0  "
            ]
          },
          "metadata": {
            "tags": []
          },
          "execution_count": 24
        }
      ]
    },
    {
      "metadata": {
        "id": "Gc85Ym38-yEK",
        "colab_type": "code",
        "outputId": "8044cae4-4b6b-4cdc-e897-2fa53e7b32dc",
        "colab": {
          "base_uri": "https://localhost:8080/",
          "height": 396
        }
      },
      "cell_type": "code",
      "source": [
        "# distribucion de la edad de las casas - utilizando la ultima columna del juego de datos\n",
        "viviendas_california_dataframe.hist('housing_median_age')"
      ],
      "execution_count": 25,
      "outputs": [
        {
          "output_type": "execute_result",
          "data": {
            "text/plain": [
              "array([[<matplotlib.axes._subplots.AxesSubplot object at 0x7fc8577f5f28>]],\n",
              "      dtype=object)"
            ]
          },
          "metadata": {
            "tags": []
          },
          "execution_count": 25
        },
        {
          "output_type": "display_data",
          "data": {
            "image/png": "[encoded data removed]",
            "text/plain": [
              "<Figure size 576x396 with 1 Axes>"
            ]
          },
          "metadata": {
            "tags": []
          }
        }
      ]
    },
    {
      "metadata": {
        "id": "n0jXdz6a-yEO",
        "colab_type": "text"
      },
      "cell_type": "markdown",
      "source": [
        "#### 1.2.4 Otra forma de crear DataFrames\n",
        "El siguiente ejemplo muestra una forma alternativa de crear un DataFrame ingresando las series en una sola linea. "
      ]
    },
    {
      "metadata": {
        "id": "-0jL5snI-yEP",
        "colab_type": "code",
        "outputId": "2344e1dc-5825-44ea-b5ac-720b560eead3",
        "colab": {
          "base_uri": "https://localhost:8080/",
          "height": 413
        }
      },
      "cell_type": "code",
      "source": [
        "# define un DataFrame para animales con dos series y un indice=nombre_animal\n",
        "animales = pd.DataFrame({\n",
        "     'largo': [1.5, 0.5, 1.2, 0.9, 3, 5.1],\n",
        "     'ancho': [0.7, 0.2, 0.15, 0.2, 1.1, 3.3]\n",
        "     }, index= ['cerdo', 'conejo', 'pato', 'gallina', 'caballo', 'vaca'])\n",
        "# Imprime un histograma con solo 3 columnas\n",
        "animales.hist(bins=3)"
      ],
      "execution_count": 26,
      "outputs": [
        {
          "output_type": "execute_result",
          "data": {
            "text/plain": [
              "array([[<matplotlib.axes._subplots.AxesSubplot object at 0x7fc857776978>,\n",
              "        <matplotlib.axes._subplots.AxesSubplot object at 0x7fc8557537b8>]],\n",
              "      dtype=object)"
            ]
          },
          "metadata": {
            "tags": []
          },
          "execution_count": 26
        },
        {
          "output_type": "display_data",
          "data": {
            "image/png": "[encoded data removed]",
            "text/plain": [
              "<Figure size 576x396 with 2 Axes>"
            ]
          },
          "metadata": {
            "tags": []
          }
        }
      ]
    },
    {
      "metadata": {
        "id": "W2InlUkl-yET",
        "colab_type": "text"
      },
      "cell_type": "markdown",
      "source": [
        "### 1.3. Acceso a los datos en el DataFrame\n",
        "Los datos en el dataFrame pueden ser accedidos utilizando cualquiera de las operaciones `dict` / `list` en Python:\n"
      ]
    },
    {
      "metadata": {
        "id": "JcfGbA1r-yEU",
        "colab_type": "code",
        "outputId": "67182380-07f4-470e-99bf-303c311f029f",
        "colab": {
          "base_uri": "https://localhost:8080/",
          "height": 102
        }
      },
      "cell_type": "code",
      "source": [
        "# pd fue definido en el ejemplo 1.2.1 (arriba ^)\n",
        "pciudades = pd.DataFrame({ 'Ciudad': ciudades, 'Poblacion': poblacion })\n",
        "\n",
        "# usando el comando print para imprimir\n",
        "print(type(pciudades['Ciudad']))\n",
        "pciudades['Ciudad']\n"
      ],
      "execution_count": 27,
      "outputs": [
        {
          "output_type": "stream",
          "text": [
            "<class 'pandas.core.series.Series'>\n"
          ],
          "name": "stdout"
        },
        {
          "output_type": "execute_result",
          "data": {
            "text/plain": [
              "0    San Francisco\n",
              "1          Sevilla\n",
              "2         Portugal\n",
              "Name: Ciudad, dtype: object"
            ]
          },
          "metadata": {
            "tags": []
          },
          "execution_count": 27
        }
      ]
    },
    {
      "metadata": {
        "id": "tMF61Le7-yEZ",
        "colab_type": "code",
        "outputId": "b5c7f515-bd8f-432a-84d8-3c8f809d5883",
        "colab": {
          "base_uri": "https://localhost:8080/",
          "height": 51
        }
      },
      "cell_type": "code",
      "source": [
        "# imprime la primera fila de la columna ciudad\n",
        "print(type(pciudades['Ciudad'][1]))\n",
        "pciudades['Ciudad'][1]\n"
      ],
      "execution_count": 28,
      "outputs": [
        {
          "output_type": "stream",
          "text": [
            "<class 'str'>\n"
          ],
          "name": "stdout"
        },
        {
          "output_type": "execute_result",
          "data": {
            "text/plain": [
              "'Sevilla'"
            ]
          },
          "metadata": {
            "tags": []
          },
          "execution_count": 28
        }
      ]
    },
    {
      "metadata": {
        "id": "PSXyJ6Yq-yEd",
        "colab_type": "code",
        "outputId": "c7bddb51-8a58-41a9-e56d-7d36cdd2b05a",
        "colab": {
          "base_uri": "https://localhost:8080/",
          "height": 128
        }
      },
      "cell_type": "code",
      "source": [
        "# imprime las dos primeras filas 0 y 1 de la tabla\n",
        "print(type(pciudades[0:2]))\n",
        "pciudades[0:2]\n"
      ],
      "execution_count": 29,
      "outputs": [
        {
          "output_type": "stream",
          "text": [
            "<class 'pandas.core.frame.DataFrame'>\n"
          ],
          "name": "stdout"
        },
        {
          "output_type": "execute_result",
          "data": {
            "text/html": [
              "<div>\n",
              "<style scoped>\n",
              "    .dataframe tbody tr th:only-of-type {\n",
              "        vertical-align: middle;\n",
              "    }\n",
              "\n",
              "    .dataframe tbody tr th {\n",
              "        vertical-align: top;\n",
              "    }\n",
              "\n",
              "    .dataframe thead th {\n",
              "        text-align: right;\n",
              "    }\n",
              "</style>\n",
              "<table border=\"1\" class=\"dataframe\">\n",
              "  <thead>\n",
              "    <tr style=\"text-align: right;\">\n",
              "      <th></th>\n",
              "      <th>Ciudad</th>\n",
              "      <th>Poblacion</th>\n",
              "    </tr>\n",
              "  </thead>\n",
              "  <tbody>\n",
              "    <tr>\n",
              "      <th>0</th>\n",
              "      <td>San Francisco</td>\n",
              "      <td>1250000</td>\n",
              "    </tr>\n",
              "    <tr>\n",
              "      <th>1</th>\n",
              "      <td>Sevilla</td>\n",
              "      <td>105000</td>\n",
              "    </tr>\n",
              "  </tbody>\n",
              "</table>\n",
              "</div>"
            ],
            "text/plain": [
              "          Ciudad  Poblacion\n",
              "0  San Francisco    1250000\n",
              "1        Sevilla     105000"
            ]
          },
          "metadata": {
            "tags": []
          },
          "execution_count": 29
        }
      ]
    },
    {
      "metadata": {
        "id": "FmH0xBsz-yEi",
        "colab_type": "text"
      },
      "cell_type": "markdown",
      "source": [
        "Pandas contine una lista de funciones muy completa para manejar indices y seleccionar elementos en un dataFrame. Para mas detalles visite: http://pandas.pydata.org/pandas-docs/stable/indexing.html"
      ]
    },
    {
      "metadata": {
        "id": "LRoN9dBN-yEi",
        "colab_type": "text"
      },
      "cell_type": "markdown",
      "source": [
        "### 1.3 Manipulacion de Datos\n",
        "Es posible aplicar las operaciones basicas de Python a tipo `Series`.  Por ejemplo:\n"
      ]
    },
    {
      "metadata": {
        "id": "4i7b68t6-yEj",
        "colab_type": "code",
        "outputId": "b6e1e27f-71b9-4fdf-c59a-439c44a9f013",
        "colab": {
          "base_uri": "https://localhost:8080/",
          "height": 85
        }
      },
      "cell_type": "code",
      "source": [
        "poblacion/1000"
      ],
      "execution_count": 30,
      "outputs": [
        {
          "output_type": "execute_result",
          "data": {
            "text/plain": [
              "0    1250.0\n",
              "1     105.0\n",
              "2     350.0\n",
              "dtype: float64"
            ]
          },
          "metadata": {
            "tags": []
          },
          "execution_count": 30
        }
      ]
    },
    {
      "metadata": {
        "id": "-hJ-UlwT-yEm",
        "colab_type": "text"
      },
      "cell_type": "markdown",
      "source": [
        "NumPy es una libreria cientifica para computacion que acepta las Series de Pandas como argumento para una gran mayoria de las funciones:\n"
      ]
    },
    {
      "metadata": {
        "id": "ndZRxyMi-yEn",
        "colab_type": "code",
        "outputId": "863cdfdb-31d4-4506-ca04-682195ae3aa1",
        "colab": {
          "base_uri": "https://localhost:8080/",
          "height": 85
        }
      },
      "cell_type": "code",
      "source": [
        "# importando numpy library\n",
        "import numpy as np\n",
        "\n",
        "# funcion logaritmica de la serie poblacion\n",
        "np.log(poblacion)"
      ],
      "execution_count": 31,
      "outputs": [
        {
          "output_type": "execute_result",
          "data": {
            "text/plain": [
              "0    14.038654\n",
              "1    11.561716\n",
              "2    12.765688\n",
              "dtype: float64"
            ]
          },
          "metadata": {
            "tags": []
          },
          "execution_count": 31
        }
      ]
    },
    {
      "metadata": {
        "id": "qJnil2vF-yEq",
        "colab_type": "text"
      },
      "cell_type": "markdown",
      "source": [
        "Para transformaciones mas complejas (de una sola columna) se puede usar `Series.apply()`.  Esta funcion acepta como argumento una funcion lambda, que es aplicada a cada valor de la serie.\n",
        "\n",
        "Por ejemplo para crear una nueva serie que indica si la poblacion es mayor de un 300,000:\n",
        "   "
      ]
    },
    {
      "metadata": {
        "id": "hWIcz4uk-yEr",
        "colab_type": "code",
        "outputId": "895c1065-cb19-4e30-8bb2-cadf34b34dd4",
        "colab": {
          "base_uri": "https://localhost:8080/",
          "height": 85
        }
      },
      "cell_type": "code",
      "source": [
        "# Utilizando una funcion Lamba de Python (ver more en:  https://www.w3schools.com/python/python_lambda.asp o https://docs.python.org/2/tutorial/controlflow.html#lambda-expressions)\n",
        "Limite=300000\n",
        "poblacion.apply(lambda val: val > Limite)\n"
      ],
      "execution_count": 32,
      "outputs": [
        {
          "output_type": "execute_result",
          "data": {
            "text/plain": [
              "0     True\n",
              "1    False\n",
              "2     True\n",
              "dtype: bool"
            ]
          },
          "metadata": {
            "tags": []
          },
          "execution_count": 32
        }
      ]
    },
    {
      "metadata": {
        "id": "e2uVSmDC-yEt",
        "colab_type": "text"
      },
      "cell_type": "markdown",
      "source": [
        "`DataFrames` pueden ser modificados en forma similar.  Por ejemplo, para adicionar dos `Series` a un `DataFrame` Existente:\n"
      ]
    },
    {
      "metadata": {
        "id": "AyjXcWgZ-yEu",
        "colab_type": "code",
        "outputId": "79b0f26a-d445-490d-cbdf-c1a4df6dae47",
        "colab": {
          "base_uri": "https://localhost:8080/",
          "height": 142
        }
      },
      "cell_type": "code",
      "source": [
        "# Adicionando 'Area en millas'\n",
        "pciudades['Area millas'] = pd.Series([46.87, 176.53, 97.92])\n",
        "# Calculando la densidad poblacional y adicionando la serie al dataFrame\n",
        "pciudades['Densidad poblacion'] = pciudades['Poblacion'] / pciudades['Area millas']\n",
        "\n",
        "pciudades"
      ],
      "execution_count": 33,
      "outputs": [
        {
          "output_type": "execute_result",
          "data": {
            "text/html": [
              "<div>\n",
              "<style scoped>\n",
              "    .dataframe tbody tr th:only-of-type {\n",
              "        vertical-align: middle;\n",
              "    }\n",
              "\n",
              "    .dataframe tbody tr th {\n",
              "        vertical-align: top;\n",
              "    }\n",
              "\n",
              "    .dataframe thead th {\n",
              "        text-align: right;\n",
              "    }\n",
              "</style>\n",
              "<table border=\"1\" class=\"dataframe\">\n",
              "  <thead>\n",
              "    <tr style=\"text-align: right;\">\n",
              "      <th></th>\n",
              "      <th>Ciudad</th>\n",
              "      <th>Poblacion</th>\n",
              "      <th>Area millas</th>\n",
              "      <th>Densidad poblacion</th>\n",
              "    </tr>\n",
              "  </thead>\n",
              "  <tbody>\n",
              "    <tr>\n",
              "      <th>0</th>\n",
              "      <td>San Francisco</td>\n",
              "      <td>1250000</td>\n",
              "      <td>46.87</td>\n",
              "      <td>26669.511415</td>\n",
              "    </tr>\n",
              "    <tr>\n",
              "      <th>1</th>\n",
              "      <td>Sevilla</td>\n",
              "      <td>105000</td>\n",
              "      <td>176.53</td>\n",
              "      <td>594.799751</td>\n",
              "    </tr>\n",
              "    <tr>\n",
              "      <th>2</th>\n",
              "      <td>Portugal</td>\n",
              "      <td>350000</td>\n",
              "      <td>97.92</td>\n",
              "      <td>3574.346405</td>\n",
              "    </tr>\n",
              "  </tbody>\n",
              "</table>\n",
              "</div>"
            ],
            "text/plain": [
              "          Ciudad  Poblacion  Area millas  Densidad poblacion\n",
              "0  San Francisco    1250000        46.87        26669.511415\n",
              "1        Sevilla     105000       176.53          594.799751\n",
              "2       Portugal     350000        97.92         3574.346405"
            ]
          },
          "metadata": {
            "tags": []
          },
          "execution_count": 33
        }
      ]
    },
    {
      "metadata": {
        "id": "xJ-tVOTG-yEw",
        "colab_type": "text"
      },
      "cell_type": "markdown",
      "source": [
        "### 1.4 Ejercicios\n",
        "##### 1.4.1 Ejercicio 1\n",
        "Modifique la tabla de ciudades (pciudades) adicionando una nueva columna boolean que es cierta (True) si las siguientes dos condiciones son ciertas:\n",
        "\n",
        "* La ciudad empieza con S\n",
        "* La ciudad tiene un area mayor de 55 millas"
      ]
    },
    {
      "metadata": {
        "id": "wKTMUR8N-yEx",
        "colab_type": "code",
        "outputId": "5c4ed525-0c83-4f14-b9e7-d12e8807f067",
        "colab": {
          "base_uri": "https://localhost:8080/",
          "height": 142
        }
      },
      "cell_type": "code",
      "source": [
        "pciudades['ejercicio1'] = (pciudades['Area millas']>55) & (pciudades['Ciudad'].apply(lambda name: name.startswith('S')))\n",
        "pciudades"
      ],
      "execution_count": 34,
      "outputs": [
        {
          "output_type": "execute_result",
          "data": {
            "text/html": [
              "<div>\n",
              "<style scoped>\n",
              "    .dataframe tbody tr th:only-of-type {\n",
              "        vertical-align: middle;\n",
              "    }\n",
              "\n",
              "    .dataframe tbody tr th {\n",
              "        vertical-align: top;\n",
              "    }\n",
              "\n",
              "    .dataframe thead th {\n",
              "        text-align: right;\n",
              "    }\n",
              "</style>\n",
              "<table border=\"1\" class=\"dataframe\">\n",
              "  <thead>\n",
              "    <tr style=\"text-align: right;\">\n",
              "      <th></th>\n",
              "      <th>Ciudad</th>\n",
              "      <th>Poblacion</th>\n",
              "      <th>Area millas</th>\n",
              "      <th>Densidad poblacion</th>\n",
              "      <th>ejercicio1</th>\n",
              "    </tr>\n",
              "  </thead>\n",
              "  <tbody>\n",
              "    <tr>\n",
              "      <th>0</th>\n",
              "      <td>San Francisco</td>\n",
              "      <td>1250000</td>\n",
              "      <td>46.87</td>\n",
              "      <td>26669.511415</td>\n",
              "      <td>False</td>\n",
              "    </tr>\n",
              "    <tr>\n",
              "      <th>1</th>\n",
              "      <td>Sevilla</td>\n",
              "      <td>105000</td>\n",
              "      <td>176.53</td>\n",
              "      <td>594.799751</td>\n",
              "      <td>True</td>\n",
              "    </tr>\n",
              "    <tr>\n",
              "      <th>2</th>\n",
              "      <td>Portugal</td>\n",
              "      <td>350000</td>\n",
              "      <td>97.92</td>\n",
              "      <td>3574.346405</td>\n",
              "      <td>False</td>\n",
              "    </tr>\n",
              "  </tbody>\n",
              "</table>\n",
              "</div>"
            ],
            "text/plain": [
              "          Ciudad  Poblacion  Area millas  Densidad poblacion  ejercicio1\n",
              "0  San Francisco    1250000        46.87        26669.511415       False\n",
              "1        Sevilla     105000       176.53          594.799751        True\n",
              "2       Portugal     350000        97.92         3574.346405       False"
            ]
          },
          "metadata": {
            "tags": []
          },
          "execution_count": 34
        }
      ]
    },
    {
      "metadata": {
        "id": "64R3IYYl-yEz",
        "colab_type": "text"
      },
      "cell_type": "markdown",
      "source": [
        "## 2. Indices \n",
        "Series y DataFrames contienen una propiedad que permite el manejo de indices, es decir existe un identificador para cada item en la Serie o   DataFrame.\n",
        "\n",
        "\n",
        "Pandas asigna inicialmente indices con valores que reflejan el orden cuando los datos se cargaron.  Una vez creados, los valores del indice son estables, es decir, ellos no cambian cuando los datos se reordenan\n"
      ]
    },
    {
      "metadata": {
        "id": "dayrRsPM-yEz",
        "colab_type": "code",
        "outputId": "80d2a0bc-65dc-4391-bd98-a2a29c73a400",
        "colab": {
          "base_uri": "https://localhost:8080/",
          "height": 34
        }
      },
      "cell_type": "code",
      "source": [
        "ciudades.index"
      ],
      "execution_count": 35,
      "outputs": [
        {
          "output_type": "execute_result",
          "data": {
            "text/plain": [
              "RangeIndex(start=0, stop=3, step=1)"
            ]
          },
          "metadata": {
            "tags": []
          },
          "execution_count": 35
        }
      ]
    },
    {
      "metadata": {
        "id": "nna-dBT0-yE2",
        "colab_type": "code",
        "outputId": "aec324f4-efac-4679-cea1-bdac59943f4e",
        "colab": {
          "base_uri": "https://localhost:8080/",
          "height": 34
        }
      },
      "cell_type": "code",
      "source": [
        "pciudades.index"
      ],
      "execution_count": 36,
      "outputs": [
        {
          "output_type": "execute_result",
          "data": {
            "text/plain": [
              "RangeIndex(start=0, stop=3, step=1)"
            ]
          },
          "metadata": {
            "tags": []
          },
          "execution_count": 36
        }
      ]
    },
    {
      "metadata": {
        "id": "EZY8779e-yE4",
        "colab_type": "text"
      },
      "cell_type": "markdown",
      "source": [
        "Llamar DataFrame.reindex para reordernar las filas en forma manual.  Por ejemplo, para ordenar por nombre de ciudad:\n"
      ]
    },
    {
      "metadata": {
        "id": "sc1Cga10-yE4",
        "colab_type": "code",
        "outputId": "f3ba71b3-60b7-4594-89f0-a9395d8889d6",
        "colab": {
          "base_uri": "https://localhost:8080/",
          "height": 142
        }
      },
      "cell_type": "code",
      "source": [
        "pciudades.reindex([2, 0, 1])"
      ],
      "execution_count": 37,
      "outputs": [
        {
          "output_type": "execute_result",
          "data": {
            "text/html": [
              "<div>\n",
              "<style scoped>\n",
              "    .dataframe tbody tr th:only-of-type {\n",
              "        vertical-align: middle;\n",
              "    }\n",
              "\n",
              "    .dataframe tbody tr th {\n",
              "        vertical-align: top;\n",
              "    }\n",
              "\n",
              "    .dataframe thead th {\n",
              "        text-align: right;\n",
              "    }\n",
              "</style>\n",
              "<table border=\"1\" class=\"dataframe\">\n",
              "  <thead>\n",
              "    <tr style=\"text-align: right;\">\n",
              "      <th></th>\n",
              "      <th>Ciudad</th>\n",
              "      <th>Poblacion</th>\n",
              "      <th>Area millas</th>\n",
              "      <th>Densidad poblacion</th>\n",
              "      <th>ejercicio1</th>\n",
              "    </tr>\n",
              "  </thead>\n",
              "  <tbody>\n",
              "    <tr>\n",
              "      <th>2</th>\n",
              "      <td>Portugal</td>\n",
              "      <td>350000</td>\n",
              "      <td>97.92</td>\n",
              "      <td>3574.346405</td>\n",
              "      <td>False</td>\n",
              "    </tr>\n",
              "    <tr>\n",
              "      <th>0</th>\n",
              "      <td>San Francisco</td>\n",
              "      <td>1250000</td>\n",
              "      <td>46.87</td>\n",
              "      <td>26669.511415</td>\n",
              "      <td>False</td>\n",
              "    </tr>\n",
              "    <tr>\n",
              "      <th>1</th>\n",
              "      <td>Sevilla</td>\n",
              "      <td>105000</td>\n",
              "      <td>176.53</td>\n",
              "      <td>594.799751</td>\n",
              "      <td>True</td>\n",
              "    </tr>\n",
              "  </tbody>\n",
              "</table>\n",
              "</div>"
            ],
            "text/plain": [
              "          Ciudad  Poblacion  Area millas  Densidad poblacion  ejercicio1\n",
              "2       Portugal     350000        97.92         3574.346405       False\n",
              "0  San Francisco    1250000        46.87        26669.511415       False\n",
              "1        Sevilla     105000       176.53          594.799751        True"
            ]
          },
          "metadata": {
            "tags": []
          },
          "execution_count": 37
        }
      ]
    },
    {
      "metadata": {
        "id": "983mAYlM-yE7",
        "colab_type": "text"
      },
      "cell_type": "markdown",
      "source": [
        "Reindexar es una herramienta muy util para mezclar (al azar) un DataFrame. Por ejemplo, le podemos pasar un indice, en la forma de un arreglo, a la funcion `random.permutation` de NumPy, para que mezcle los valores.  La llamada de `reindex` con el resultado de `permutation` va a causar que el DataFrame se mezcle en la misma forma.\n"
      ]
    },
    {
      "metadata": {
        "id": "brtfB1pF-yE7",
        "colab_type": "code",
        "outputId": "90b8736e-64ef-4653-984c-4b00c32860a9",
        "colab": {
          "base_uri": "https://localhost:8080/",
          "height": 142
        }
      },
      "cell_type": "code",
      "source": [
        "# mezcla el indice con \"np.random.permutation\"\n",
        "pciudades.reindex(np.random.permutation(pciudades.index))\n"
      ],
      "execution_count": 38,
      "outputs": [
        {
          "output_type": "execute_result",
          "data": {
            "text/html": [
              "<div>\n",
              "<style scoped>\n",
              "    .dataframe tbody tr th:only-of-type {\n",
              "        vertical-align: middle;\n",
              "    }\n",
              "\n",
              "    .dataframe tbody tr th {\n",
              "        vertical-align: top;\n",
              "    }\n",
              "\n",
              "    .dataframe thead th {\n",
              "        text-align: right;\n",
              "    }\n",
              "</style>\n",
              "<table border=\"1\" class=\"dataframe\">\n",
              "  <thead>\n",
              "    <tr style=\"text-align: right;\">\n",
              "      <th></th>\n",
              "      <th>Ciudad</th>\n",
              "      <th>Poblacion</th>\n",
              "      <th>Area millas</th>\n",
              "      <th>Densidad poblacion</th>\n",
              "      <th>ejercicio1</th>\n",
              "    </tr>\n",
              "  </thead>\n",
              "  <tbody>\n",
              "    <tr>\n",
              "      <th>2</th>\n",
              "      <td>Portugal</td>\n",
              "      <td>350000</td>\n",
              "      <td>97.92</td>\n",
              "      <td>3574.346405</td>\n",
              "      <td>False</td>\n",
              "    </tr>\n",
              "    <tr>\n",
              "      <th>1</th>\n",
              "      <td>Sevilla</td>\n",
              "      <td>105000</td>\n",
              "      <td>176.53</td>\n",
              "      <td>594.799751</td>\n",
              "      <td>True</td>\n",
              "    </tr>\n",
              "    <tr>\n",
              "      <th>0</th>\n",
              "      <td>San Francisco</td>\n",
              "      <td>1250000</td>\n",
              "      <td>46.87</td>\n",
              "      <td>26669.511415</td>\n",
              "      <td>False</td>\n",
              "    </tr>\n",
              "  </tbody>\n",
              "</table>\n",
              "</div>"
            ],
            "text/plain": [
              "          Ciudad  Poblacion  Area millas  Densidad poblacion  ejercicio1\n",
              "2       Portugal     350000        97.92         3574.346405       False\n",
              "1        Sevilla     105000       176.53          594.799751        True\n",
              "0  San Francisco    1250000        46.87        26669.511415       False"
            ]
          },
          "metadata": {
            "tags": []
          },
          "execution_count": 38
        }
      ]
    },
    {
      "metadata": {
        "id": "opL6og2z-yE-",
        "colab_type": "text"
      },
      "cell_type": "markdown",
      "source": [
        "El metodo *reindex* permite indexar valores que no estan entre los valores originales del DataFrame.    Por ejemplo:\n",
        "  \n",
        " "
      ]
    },
    {
      "metadata": {
        "id": "hE2hUx_cqUV_",
        "colab_type": "code",
        "colab": {
          "base_uri": "https://localhost:8080/",
          "height": 173
        },
        "outputId": "d144d809-547e-499a-9aae-004e7d752f88"
      },
      "cell_type": "code",
      "source": [
        "# \n",
        "pciudades.reindex([0, 4, 5, 2])"
      ],
      "execution_count": 40,
      "outputs": [
        {
          "output_type": "execute_result",
          "data": {
            "text/html": [
              "<div>\n",
              "<style scoped>\n",
              "    .dataframe tbody tr th:only-of-type {\n",
              "        vertical-align: middle;\n",
              "    }\n",
              "\n",
              "    .dataframe tbody tr th {\n",
              "        vertical-align: top;\n",
              "    }\n",
              "\n",
              "    .dataframe thead th {\n",
              "        text-align: right;\n",
              "    }\n",
              "</style>\n",
              "<table border=\"1\" class=\"dataframe\">\n",
              "  <thead>\n",
              "    <tr style=\"text-align: right;\">\n",
              "      <th></th>\n",
              "      <th>Ciudad</th>\n",
              "      <th>Poblacion</th>\n",
              "      <th>Area millas</th>\n",
              "      <th>Densidad poblacion</th>\n",
              "      <th>ejercicio1</th>\n",
              "    </tr>\n",
              "  </thead>\n",
              "  <tbody>\n",
              "    <tr>\n",
              "      <th>0</th>\n",
              "      <td>San Francisco</td>\n",
              "      <td>1250000.0</td>\n",
              "      <td>46.87</td>\n",
              "      <td>26669.511415</td>\n",
              "      <td>False</td>\n",
              "    </tr>\n",
              "    <tr>\n",
              "      <th>4</th>\n",
              "      <td>NaN</td>\n",
              "      <td>NaN</td>\n",
              "      <td>NaN</td>\n",
              "      <td>NaN</td>\n",
              "      <td>NaN</td>\n",
              "    </tr>\n",
              "    <tr>\n",
              "      <th>5</th>\n",
              "      <td>NaN</td>\n",
              "      <td>NaN</td>\n",
              "      <td>NaN</td>\n",
              "      <td>NaN</td>\n",
              "      <td>NaN</td>\n",
              "    </tr>\n",
              "    <tr>\n",
              "      <th>2</th>\n",
              "      <td>Portugal</td>\n",
              "      <td>350000.0</td>\n",
              "      <td>97.92</td>\n",
              "      <td>3574.346405</td>\n",
              "      <td>False</td>\n",
              "    </tr>\n",
              "  </tbody>\n",
              "</table>\n",
              "</div>"
            ],
            "text/plain": [
              "          Ciudad  Poblacion  Area millas  Densidad poblacion ejercicio1\n",
              "0  San Francisco  1250000.0        46.87        26669.511415      False\n",
              "4            NaN        NaN          NaN                 NaN        NaN\n",
              "5            NaN        NaN          NaN                 NaN        NaN\n",
              "2       Portugal   350000.0        97.92         3574.346405      False"
            ]
          },
          "metadata": {
            "tags": []
          },
          "execution_count": 40
        }
      ]
    },
    {
      "metadata": {
        "id": "dvHrFvWYqk1u",
        "colab_type": "text"
      },
      "cell_type": "markdown",
      "source": [
        "Este comportamiento es deseable porque los indices son normalmente \"strings\" extraidos de los datos.\n",
        "\n",
        "En este caso, permitir indices que no existen hace facil el reindexar utilizando una lista externa, pues no tiene que preocuparse de un error indetectable.\n"
      ]
    }
  ]
}