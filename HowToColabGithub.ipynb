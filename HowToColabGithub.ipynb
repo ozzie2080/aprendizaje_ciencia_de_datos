{
  "nbformat": 4,
  "nbformat_minor": 0,
  "metadata": {
    "colab": {
      "name": "HowToColabGithub.ipynb",
      "version": "0.3.2",
      "provenance": []
    },
    "kernelspec": {
      "display_name": "Python 3",
      "language": "python",
      "name": "python3"
    }
  },
  "cells": [
    {
      "metadata": {
        "id": "Mh5YB2khCpG5",
        "colab_type": "text"
      },
      "cell_type": "markdown",
      "source": [
        "# Como usar Colab con GitHub\n",
        "\n",
        "[Google Colaboratory](http://colab.research.google.com) esta disenado para integrarse facilmente con Github, permitiendo cargar y grabar \"notebooks\" en GitHub\n",
        "\n",
        "## Cargando directamente Notebooks (libros) publicos de GitHub \n",
        "* Colab no requiere autorizacion para libros publicos\n",
        "* Por ejemplo, el libro en esta direccion: https://github.com/ozzie2080/aprendizaje_ciencia_de_datos/blob/master/Panda/PandasIntro.ipynb. se puede acceder en Codelab con el siguiente URL: https://colab.research.google.com/github/ozzie2080/aprendizaje_ciencia_de_datos/blob/master/Panda/PandasIntro.ipynb.\n",
        "* Para generar ese URL en un click, utilize la extension de Chrome [Open in Colab](https://chrome.google.com/webstore/detail/open-in-colab/iogfkhleblhcpcekbiedikdehleodpjo)."
      ]
    },
    {
      "metadata": {
        "id": "rqtBmdGkCpG9",
        "colab_type": "text"
      },
      "cell_type": "markdown",
      "source": [
        "## Explorando Repositorios en GitHub desde Colab\n",
        "Colab soporta URLs especials que conectan directamente a GitHub (para cualquier usuario/organizacion, repositorio, o rama). Por ejemplo:\n",
        "\n",
        "- http://colab.research.google.com/github abre un explorador en github, donde puede buscar cualquier ortanizacion o usuario.\n",
        "- http://colab.research.google.com/github/googlecolab/ abre el repositorio a la organizacion ``googlecolab``.  Reemplace ``googlelab`` con el nombre de otro repositorio o usuario.\n",
        "- http://colab.research.google.com/github/googlecolab/colabtools/ le permite explorar la rama principal (main branch) del repositorio ``colabtools`` repository dentro de la organizacion ``googlecolab``. Reemplace ``googlecolab`` con cualquier usuario/branch para ver el contenido.\n",
        "- http://colab.research.google.com/github/googlecolab/colabtools/blob/master le permite explorar el contenido del ``master`` branch del repositorio de ``colabtools`` en la organizacion ``googlecolab``. (No olvide la palabra ``blob``) Usted puede specificar cualquier repositorio/rama que sean validos."
      ]
    },
    {
      "metadata": {
        "id": "9K1dCjBACpHB",
        "colab_type": "text"
      },
      "cell_type": "markdown",
      "source": [
        "## Cargando Libros Privados\n",
        "Cargar un libro de un repositorio privado de GitHub es posible, pero se requieren los siguientes pasos adicionales:\n",
        "\n",
        "1. Navegar a http://colab.research.google.com/github.\n",
        "2. Seleccione \"Include Private Repos\".\n",
        "3. En la ventana que aparece, ingrese las credenciales de Github y autorice Colab para leer los archivos privados\n",
        "4. Su repositorio privado, y todos los libros en el los ve disponibles en el pane de navegacion.\n"
      ]
    },
    {
      "metadata": {
        "id": "yFE9S949CpHE",
        "colab_type": "text"
      },
      "cell_type": "markdown",
      "source": [
        "## Grabando libros en GitHub o Google Drive\n",
        "Cuando se abre un libro directamente en GitHub con Colab, el libro aparece como una copia en modo editable. No se tiene que preocupar de modificaciones y ejecuciones que alteren el libro original.\n",
        "\n",
        "Si desea grabar los cambios, utilice el menu de Archivo (File) para grabar los libros modificados en Google Drive o en GitHub. Elija en el menu  **File→Save a copy in Drive** o **File→Save a copy to GitHub** y siga las instrucciones. Para grabar un libro a GitHub se require dar permiso a Colab para que \"empuje\" (push/commit) los cambios en el repositorio.\n"
      ]
    },
    {
      "metadata": {
        "id": "JMZUzt_yCpHG",
        "colab_type": "text"
      },
      "cell_type": "markdown",
      "source": [
        "## Abriendo en Colab Badge\n",
        "\n",
        "Cualquiera puede abrir libros en GitHub con Colab.  Para facilitar el acceso de estos libros, colab provee un [shields.io](http://shields.io/)-badge que se ve como sigue:\n",
        "\n",
        "[![Open In Colab](https://colab.research.google.com/assets/colab-badge.svg)](https://colab.research.google.com/github/googlecolab/colabtools/blob/master/notebooks/colab-github-demo.ipynb)\n",
        "\n",
        "El markdown de arriba se ve asi:\n",
        "\n",
        "```markdown\n",
        "[![Open In Colab](https://colab.research.google.com/assets/colab-badge.svg)](https://colab.research.google.com/github/googlecolab/colabtools/blob/master/notebooks/colab-github-demo.ipynb)\n",
        "```\n",
        "\n",
        "El equivalente HTML es:\n",
        "\n",
        "```HTML\n",
        "<a href=\"https://colab.research.google.com/github/googlecolab/colabtools/blob/master/notebooks/colab-github-demo.ipynb\">\n",
        "  <img src=\"https://colab.research.google.com/assets/colab-badge.svg\" alt=\"Open In Colab\"/>\n",
        "</a>\n",
        "```\n",
        "\n",
        "Recurede reemplazar el URL del libro con el URL correcto.\n"
      ]
    },
    {
      "metadata": {
        "id": "6smaGx0cCpHJ",
        "colab_type": "code",
        "colab": {}
      },
      "cell_type": "code",
      "source": [
        ""
      ],
      "execution_count": 0,
      "outputs": []
    }
  ]
}